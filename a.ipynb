{
 "cells": [
  {
   "cell_type": "code",
   "execution_count": 1,
   "metadata": {},
   "outputs": [],
   "source": [
    "import os\n",
    "from moviepy.editor import VideoFileClip, AudioFileClip\n",
    "import speech_recognition as sr\n",
    "from googletrans import Translator\n",
    "from gtts import gTTS\n",
    "import yt_dlp as youtube_dl"
   ]
  },
  {
   "cell_type": "code",
   "execution_count": 2,
   "metadata": {},
   "outputs": [],
   "source": [
    "def extract_audio(video_path):\n",
    "    try:\n",
    "        print(12340, os.path.splitext(video_path)[0])\n",
    "        audio_path = os.path.splitext(video_path)[0] + \".wav\"\n",
    "        print(56789, audio_path)\n",
    "        clip = VideoFileClip(video_path)\n",
    "        print(\"*************\")\n",
    "        clip.audio.write_audiofile(audio_path)\n",
    "        print(\"=====================\")\n",
    "        return audio_path\n",
    "    except Exception as e:\n",
    "        print(f\"Error extracting audio from video: {e}\")\n",
    "        return None"
   ]
  },
  {
   "cell_type": "code",
   "execution_count": 3,
   "metadata": {},
   "outputs": [],
   "source": [
    "def transcribe_audio(audio_file):\n",
    "    try:\n",
    "        r = sr.Recognizer()\n",
    "        with sr.AudioFile(audio_file) as source:\n",
    "            audio_text = r.listen(source)\n",
    "            try:\n",
    "                rec_text = r.recognize_google(audio_text)\n",
    "                print(\"Converting audio to text...\")\n",
    "            except:\n",
    "                print(\"Run again...\")\n",
    "            print(\"Transcribing Done Successfully!\")\n",
    "        return rec_text\n",
    "    except Exception as e:\n",
    "        print(f\"Error transcribing audio: {e}\")\n",
    "        return None"
   ]
  },
  {
   "cell_type": "code",
   "execution_count": 4,
   "metadata": {},
   "outputs": [],
   "source": [
    "def translate_text(rec_text, language_to_dub):\n",
    "    try:\n",
    "        translator = Translator()\n",
    "        translated_text = translator.translate(rec_text, dest=language_to_dub).text\n",
    "        print(\"Translation Done Successfully!\")\n",
    "        return translated_text\n",
    "    except Exception as e:\n",
    "        print(f\"Error translating text: {e}\")\n",
    "        return None"
   ]
  },
  {
   "cell_type": "code",
   "execution_count": 5,
   "metadata": {},
   "outputs": [],
   "source": [
    "def text_to_audio(translated_text, output_audio_file, language_to_dub):\n",
    "    try:\n",
    "        translated_audio = gTTS(translated_text, lang=language_to_dub)\n",
    "        translated_audio.save(output_audio_file)\n",
    "        print(\"Created translated audio successfully!\")\n",
    "        return output_audio_file\n",
    "    except Exception as e:\n",
    "        print(f\"Error creating audio from text: {e}\")\n",
    "        return None"
   ]
  },
  {
   "cell_type": "code",
   "execution_count": 6,
   "metadata": {},
   "outputs": [],
   "source": [
    "def merge_audio_to_video(video_file_path, output_audio_file):\n",
    "    try:\n",
    "        video_clip = VideoFileClip(video_file_path)\n",
    "        audio_clip = AudioFileClip(output_audio_file)\n",
    "        final_clip = video_clip.set_audio(audio_clip)\n",
    "        dubbed_video_path = \"static/saved_video/Dubbed_video.mp4\"\n",
    "        final_clip.write_videofile(dubbed_video_path)\n",
    "        print(\"Dubbed Video saved!\")\n",
    "        return dubbed_video_path\n",
    "    except Exception as e:\n",
    "        print(f\"Error saving audio to video: {e}\")\n",
    "        return None"
   ]
  },
  {
   "cell_type": "code",
   "execution_count": 7,
   "metadata": {},
   "outputs": [],
   "source": [
    "def download_youtube_video(url):\n",
    "    try:\n",
    "        ydl_opts = {\n",
    "            # 'outtmpl': 'static/saved_video/%(title)s.%(ext)s',  # Set output path\n",
    "            'outtmpl': 'static/saved_video/downloaded_video.%(ext)s',  # Set output path\n",
    "            'format': 'bestvideo+bestaudio/best',  # Download best quality video and audio\n",
    "            'postprocessors': [{\n",
    "                'key': 'FFmpegVideoConvertor',\n",
    "                'preferedformat': 'mp4',  # Convert to mp4 format\n",
    "            }],\n",
    "            'http_headers': {\n",
    "                'User-Agent': 'Mozilla/5.0 (Windows NT 10.0; Win64; x64) AppleWebKit/537.36 (KHTML, like Gecko) Chrome/91.0.4472.124 Safari/537.36'\n",
    "            },\n",
    "        }\n",
    "\n",
    "        with youtube_dl.YoutubeDL(ydl_opts) as ydl:\n",
    "            info_dict = ydl.extract_info(url, download=True)\n",
    "            # video_title = info_dict.get('title', None)\n",
    "            video_title = \"downloaded_video\"\n",
    "            video_path = f\"static/saved_video/{video_title}.mp4\"\n",
    "            return video_path\n",
    "    except Exception as e:\n",
    "        print(f\"Error downloading YouTube video: {e}\")\n",
    "        return None"
   ]
  },
  {
   "cell_type": "code",
   "execution_count": 8,
   "metadata": {},
   "outputs": [],
   "source": [
    "language_to_dub = \"hi\"\n",
    "url = r\"https://www.youtube.com/watch?v=duivTODqKSs\"\n",
    "output_audio_file = \"static/saved_video/translated_audio_file.wav\""
   ]
  },
  {
   "cell_type": "code",
   "execution_count": 9,
   "metadata": {},
   "outputs": [
    {
     "name": "stdout",
     "output_type": "stream",
     "text": [
      "[youtube] Extracting URL: https://www.youtube.com/watch?v=duivTODqKSs\n",
      "[youtube] duivTODqKSs: Downloading webpage\n",
      "[youtube] duivTODqKSs: Downloading tv client config\n",
      "[youtube] duivTODqKSs: Downloading player 5ae7d525\n",
      "[youtube] duivTODqKSs: Downloading tv player API JSON\n",
      "[youtube] duivTODqKSs: Downloading ios player API JSON\n",
      "[youtube] duivTODqKSs: Downloading m3u8 information\n",
      "[info] duivTODqKSs: Downloading 1 format(s): 136+251\n",
      "[download] Destination: static\\saved_video\\downloaded_video.f136.mp4\n",
      "[download] 100% of   53.07MiB in 00:00:05 at 10.08MiB/s    \n",
      "[download] Destination: static\\saved_video\\downloaded_video.f251.webm\n",
      "[download] 100% of    1.70MiB in 00:00:00 at 8.37MiB/s   \n",
      "[Merger] Merging formats into \"static\\saved_video\\downloaded_video.mkv\"\n",
      "Deleting original file static\\saved_video\\downloaded_video.f251.webm (pass -k to keep)\n",
      "Deleting original file static\\saved_video\\downloaded_video.f136.mp4 (pass -k to keep)\n",
      "[VideoConvertor] Converting video from mkv to mp4; Destination: static\\saved_video\\downloaded_video.mp4\n",
      "Deleting original file static\\saved_video\\downloaded_video.mkv (pass -k to keep)\n",
      "111111111111 static/saved_video/downloaded_video.mp4\n",
      "12340 static/saved_video/downloaded_video\n",
      "56789 static/saved_video/downloaded_video.wav\n",
      "*************\n",
      "MoviePy - Writing audio in static/saved_video/downloaded_video.wav\n"
     ]
    },
    {
     "name": "stderr",
     "output_type": "stream",
     "text": [
      "                                                                      \r"
     ]
    },
    {
     "name": "stdout",
     "output_type": "stream",
     "text": [
      "MoviePy - Done.\n",
      "=====================\n",
      "2222222222222 static/saved_video/downloaded_video.wav\n",
      "Converting audio to text...\n",
      "Transcribing Done Successfully!\n",
      "33333333333333333 excuse me is there an ATM near here yes there is one near the traffic lights thanks that mention it\n",
      "Translation Done Successfully!\n",
      "444444444444444 मुझे माफ करना वहाँ एक एटीएम यहाँ के पास है हाँ, ट्रैफिक लाइट्स के पास एक है धन्यवाद धन्यवाद कि इसका उल्लेख है\n",
      "Created translated audio successfully!\n",
      "55555555555555\n",
      "Moviepy - Building video static/saved_video/Dubbed_video.mp4.\n",
      "MoviePy - Writing audio in Dubbed_videoTEMP_MPY_wvf_snd.mp3\n"
     ]
    },
    {
     "name": "stderr",
     "output_type": "stream",
     "text": [
      "                                                                   \r"
     ]
    },
    {
     "name": "stdout",
     "output_type": "stream",
     "text": [
      "MoviePy - Done.\n",
      "Moviepy - Writing video static/saved_video/Dubbed_video.mp4\n",
      "\n"
     ]
    },
    {
     "name": "stderr",
     "output_type": "stream",
     "text": [
      "                                                                \r"
     ]
    },
    {
     "name": "stdout",
     "output_type": "stream",
     "text": [
      "Moviepy - Done !\n",
      "Moviepy - video ready static/saved_video/Dubbed_video.mp4\n",
      "Dubbed Video saved!\n",
      "66666666666666 static/saved_video/Dubbed_video.mp4\n"
     ]
    }
   ],
   "source": [
    "video_path = download_youtube_video(url)\n",
    "print(111111111111, video_path)\n",
    "\n",
    "audio_path = extract_audio(video_path)\n",
    "print(2222222222222, audio_path)\n",
    "\n",
    "if audio_path:\n",
    "    rec_text = transcribe_audio(audio_path)\n",
    "    print(33333333333333333, rec_text)\n",
    "\n",
    "    if rec_text:\n",
    "        translated_text = translate_text(rec_text, language_to_dub)\n",
    "        print(444444444444444, translated_text)\n",
    "\n",
    "        if translated_text:\n",
    "            text_to_audio(translated_text, output_audio_file, language_to_dub)\n",
    "            print(55555555555555)\n",
    "\n",
    "            dubbed_video_path = merge_audio_to_video(video_path, output_audio_file)\n",
    "\n",
    "            if dubbed_video_path:\n",
    "                print(66666666666666, dubbed_video_path)\n",
    "            else:\n",
    "                print(777777777777, \"Error creating dubbed video. Please try again.\")\n",
    "        else:\n",
    "            print(888888888888888, \"Error translating text. Please try again.\")\n",
    "    else:\n",
    "        print(9999999999999999, \"Error transcribing audio. Please try again.\")\n",
    "else:\n",
    "    print(10000000000000000, \"Error extracting audio. Please try again.\")"
   ]
  }
 ],
 "metadata": {
  "kernelspec": {
   "display_name": "Python 3",
   "language": "python",
   "name": "python3"
  },
  "language_info": {
   "codemirror_mode": {
    "name": "ipython",
    "version": 3
   },
   "file_extension": ".py",
   "mimetype": "text/x-python",
   "name": "python",
   "nbconvert_exporter": "python",
   "pygments_lexer": "ipython3",
   "version": "3.10.8"
  }
 },
 "nbformat": 4,
 "nbformat_minor": 2
}
